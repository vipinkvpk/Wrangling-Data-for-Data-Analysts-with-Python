{
 "cells": [
  {
   "cell_type": "code",
   "execution_count": null,
   "metadata": {},
   "outputs": [],
   "source": [
    "import requests\n",
    "import json\n",
    "ApiKey = ''\n",
    "getData = requests.get('https://www.quandl.com/api/v3/datasets/FSE/AFX_X.json?&start_date=2019-01-01&end_date=2019-01-01&api_key='+apiKey)\n",
    "data = getData.json()\n",
    "print(data)\n",
    "data['dataset'].keys()\n",
    "data['dataset']['column_names']\n",
    "dataFinal=data['dataset']['data']\n",
    "data[1]\n",
    "openArray=[row[1] for row in dataFinal if row[1]!='none']\n",
    "maxValue(max(openArray))\n",
    "minValue(min(openArray))\n",
    "print(maxValue,minValue)\n",
    "change=0\n",
    "for row in dataFinal:\n",
    "    high=row[3]\n",
    "    low=row[4]\n",
    "    temp=low-high\n",
    "    if(temp>change):\n",
    "        change=temp\n",
    "print(change)\n",
    "number=[45,34,10,36,12,6,80]\n",
    "from numpy import mean\n",
    "avg=mean(number)\n",
    "sum=0\n",
    "i=0\n",
    "for i in range(0,len(number)):\n",
    "    sum=sum+number[i]\n",
    "avg=sum/len(number)\n",
    "total=0\n",
    "for row in dataFinal:\n",
    "    total+=row[7]\n",
    "turnover=total/len(dataFinal)\n",
    "print(turnover)\n"
   ]
  }
 ],
 "metadata": {
  "kernelspec": {
   "display_name": "Python 3",
   "language": "python",
   "name": "python3"
  },
  "language_info": {
   "codemirror_mode": {
    "name": "ipython",
    "version": 3
   },
   "file_extension": ".py",
   "mimetype": "text/x-python",
   "name": "python",
   "nbconvert_exporter": "python",
   "pygments_lexer": "ipython3",
   "version": "3.6.11"
  }
 },
 "nbformat": 4,
 "nbformat_minor": 4
}
